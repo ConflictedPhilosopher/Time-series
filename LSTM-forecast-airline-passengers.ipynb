{
 "cells": [
  {
   "cell_type": "code",
   "execution_count": 1,
   "id": "molecular-sheet",
   "metadata": {
    "scrolled": false
   },
   "outputs": [],
   "source": [
    "import numpy as np\n",
    "import matplotlib.pyplot as plt\n",
    "from pandas import read_csv\n",
    "import math\n",
    "from keras.models import Sequential\n",
    "from keras.layers import Dense, LSTM, Input\n",
    "from sklearn.preprocessing import MinMaxScaler\n",
    "from sklearn.metrics import mean_squared_error"
   ]
  },
  {
   "cell_type": "code",
   "execution_count": 2,
   "id": "macro-parish",
   "metadata": {},
   "outputs": [],
   "source": [
    "np.random.seed(10)"
   ]
  },
  {
   "cell_type": "code",
   "execution_count": 21,
   "id": "fixed-amateur",
   "metadata": {},
   "outputs": [],
   "source": [
    "air_passengers = read_csv('AirPassengers.csv', usecols=[1])\n",
    "data = air_passengers.values.astype('float32')"
   ]
  },
  {
   "cell_type": "code",
   "execution_count": 22,
   "id": "affected-tracker",
   "metadata": {},
   "outputs": [],
   "source": [
    "# normalize the dataset\n",
    "scaler = MinMaxScaler(feature_range=(0, 1))\n",
    "data = scaler.fit_transform(data)"
   ]
  },
  {
   "cell_type": "code",
   "execution_count": 23,
   "id": "smaller-friday",
   "metadata": {},
   "outputs": [
    {
     "name": "stdout",
     "output_type": "stream",
     "text": [
      "Training data size 96, test data size 48\n"
     ]
    }
   ],
   "source": [
    "# split into train and test sets\n",
    "train_size = int(len(data) * 0.67)\n",
    "test_size = len(data) - train_size\n",
    "train, test = data[0:train_size,:], data[train_size:len(data),:]\n",
    "print('Training data size {}, test data size {}'.format(len(train), len(test)))"
   ]
  },
  {
   "cell_type": "code",
   "execution_count": 24,
   "id": "valid-sudan",
   "metadata": {},
   "outputs": [],
   "source": [
    "# convert an array of values into a dataset matrix\n",
    "def create_dataset(dataset, look_back=1):\n",
    "    dataX, dataY = [], []\n",
    "    for i in range(len(dataset)-look_back-1):\n",
    "        a = dataset[i:(i+look_back), 0]\n",
    "        dataX.append(a)\n",
    "        dataY.append(dataset[i + look_back, 0])\n",
    "    return np.array(dataX), np.array(dataY)"
   ]
  },
  {
   "cell_type": "code",
   "execution_count": 25,
   "id": "curious-scheme",
   "metadata": {},
   "outputs": [],
   "source": [
    "look_back = 3\n",
    "trainX, trainY = create_dataset(train, look_back)\n",
    "testX, testY = create_dataset(test, look_back)"
   ]
  },
  {
   "cell_type": "code",
   "execution_count": 26,
   "id": "specific-rings",
   "metadata": {},
   "outputs": [],
   "source": [
    "# reshape input to be [samples, time steps, features]\n",
    "trainX = np.reshape(trainX, (trainX.shape[0], 1, trainX.shape[1]))\n",
    "testX = np.reshape(testX, (testX.shape[0], 1, testX.shape[1]))"
   ]
  },
  {
   "cell_type": "code",
   "execution_count": 38,
   "id": "experienced-accident",
   "metadata": {},
   "outputs": [
    {
     "data": {
      "text/plain": [
       "(92, 1, 3)"
      ]
     },
     "execution_count": 38,
     "metadata": {},
     "output_type": "execute_result"
    }
   ],
   "source": [
    "trainX.shape"
   ]
  },
  {
   "cell_type": "code",
   "execution_count": 27,
   "id": "fifty-postcard",
   "metadata": {},
   "outputs": [
    {
     "name": "stdout",
     "output_type": "stream",
     "text": [
      "Model: \"sequential_1\"\n",
      "_________________________________________________________________\n",
      "Layer (type)                 Output Shape              Param #   \n",
      "=================================================================\n",
      "lstm_1 (LSTM)                (None, 4)                 128       \n",
      "_________________________________________________________________\n",
      "dense_1 (Dense)              (None, 1)                 5         \n",
      "=================================================================\n",
      "Total params: 133\n",
      "Trainable params: 133\n",
      "Non-trainable params: 0\n",
      "_________________________________________________________________\n"
     ]
    }
   ],
   "source": [
    "hidden_nodes = 4\n",
    "\n",
    "model = Sequential()\n",
    "model.add(LSTM(hidden_nodes, input_shape=(1, look_back)))\n",
    "model.add(Dense(1))\n",
    "model.compile(loss='mean_squared_error', optimizer='adam')\n",
    "model.summary()"
   ]
  },
  {
   "cell_type": "code",
   "execution_count": 28,
   "id": "moral-blues",
   "metadata": {
    "scrolled": true
   },
   "outputs": [
    {
     "name": "stdout",
     "output_type": "stream",
     "text": [
      "Epoch 1/100\n",
      "92/92 - 1s - loss: 0.0220\n",
      "Epoch 2/100\n",
      "92/92 - 0s - loss: 0.0084\n",
      "Epoch 3/100\n",
      "92/92 - 0s - loss: 0.0070\n",
      "Epoch 4/100\n",
      "92/92 - 0s - loss: 0.0062\n",
      "Epoch 5/100\n",
      "92/92 - 0s - loss: 0.0056\n",
      "Epoch 6/100\n",
      "92/92 - 0s - loss: 0.0050\n",
      "Epoch 7/100\n",
      "92/92 - 0s - loss: 0.0046\n",
      "Epoch 8/100\n",
      "92/92 - 0s - loss: 0.0043\n",
      "Epoch 9/100\n",
      "92/92 - 0s - loss: 0.0041\n",
      "Epoch 10/100\n",
      "92/92 - 0s - loss: 0.0039\n",
      "Epoch 11/100\n",
      "92/92 - 0s - loss: 0.0039\n",
      "Epoch 12/100\n",
      "92/92 - 0s - loss: 0.0037\n",
      "Epoch 13/100\n",
      "92/92 - 0s - loss: 0.0037\n",
      "Epoch 14/100\n",
      "92/92 - 0s - loss: 0.0036\n",
      "Epoch 15/100\n",
      "92/92 - 0s - loss: 0.0036\n",
      "Epoch 16/100\n",
      "92/92 - 0s - loss: 0.0036\n",
      "Epoch 17/100\n",
      "92/92 - 0s - loss: 0.0037\n",
      "Epoch 18/100\n",
      "92/92 - 0s - loss: 0.0034\n",
      "Epoch 19/100\n",
      "92/92 - 0s - loss: 0.0036\n",
      "Epoch 20/100\n",
      "92/92 - 0s - loss: 0.0034\n",
      "Epoch 21/100\n",
      "92/92 - 0s - loss: 0.0033\n",
      "Epoch 22/100\n",
      "92/92 - 0s - loss: 0.0034\n",
      "Epoch 23/100\n",
      "92/92 - 0s - loss: 0.0033\n",
      "Epoch 24/100\n",
      "92/92 - 0s - loss: 0.0032\n",
      "Epoch 25/100\n",
      "92/92 - 0s - loss: 0.0032\n",
      "Epoch 26/100\n",
      "92/92 - 0s - loss: 0.0032\n",
      "Epoch 27/100\n",
      "92/92 - 0s - loss: 0.0031\n",
      "Epoch 28/100\n",
      "92/92 - 0s - loss: 0.0031\n",
      "Epoch 29/100\n",
      "92/92 - 0s - loss: 0.0030\n",
      "Epoch 30/100\n",
      "92/92 - 0s - loss: 0.0030\n",
      "Epoch 31/100\n",
      "92/92 - 0s - loss: 0.0030\n",
      "Epoch 32/100\n",
      "92/92 - 0s - loss: 0.0030\n",
      "Epoch 33/100\n",
      "92/92 - 0s - loss: 0.0030\n",
      "Epoch 34/100\n",
      "92/92 - 0s - loss: 0.0030\n",
      "Epoch 35/100\n",
      "92/92 - 0s - loss: 0.0029\n",
      "Epoch 36/100\n",
      "92/92 - 0s - loss: 0.0029\n",
      "Epoch 37/100\n",
      "92/92 - 0s - loss: 0.0028\n",
      "Epoch 38/100\n",
      "92/92 - 0s - loss: 0.0028\n",
      "Epoch 39/100\n",
      "92/92 - 0s - loss: 0.0028\n",
      "Epoch 40/100\n",
      "92/92 - 0s - loss: 0.0027\n",
      "Epoch 41/100\n",
      "92/92 - 0s - loss: 0.0027\n",
      "Epoch 42/100\n",
      "92/92 - 0s - loss: 0.0027\n",
      "Epoch 43/100\n",
      "92/92 - 0s - loss: 0.0027\n",
      "Epoch 44/100\n",
      "92/92 - 0s - loss: 0.0026\n",
      "Epoch 45/100\n",
      "92/92 - 0s - loss: 0.0026\n",
      "Epoch 46/100\n",
      "92/92 - 0s - loss: 0.0026\n",
      "Epoch 47/100\n",
      "92/92 - 0s - loss: 0.0026\n",
      "Epoch 48/100\n",
      "92/92 - 0s - loss: 0.0026\n",
      "Epoch 49/100\n",
      "92/92 - 0s - loss: 0.0026\n",
      "Epoch 50/100\n",
      "92/92 - 0s - loss: 0.0025\n",
      "Epoch 51/100\n",
      "92/92 - 0s - loss: 0.0025\n",
      "Epoch 52/100\n",
      "92/92 - 0s - loss: 0.0025\n",
      "Epoch 53/100\n",
      "92/92 - 0s - loss: 0.0024\n",
      "Epoch 54/100\n",
      "92/92 - 0s - loss: 0.0024\n",
      "Epoch 55/100\n",
      "92/92 - 0s - loss: 0.0023\n",
      "Epoch 56/100\n",
      "92/92 - 0s - loss: 0.0024\n",
      "Epoch 57/100\n",
      "92/92 - 0s - loss: 0.0024\n",
      "Epoch 58/100\n",
      "92/92 - 0s - loss: 0.0023\n",
      "Epoch 59/100\n",
      "92/92 - 0s - loss: 0.0023\n",
      "Epoch 60/100\n",
      "92/92 - 0s - loss: 0.0023\n",
      "Epoch 61/100\n",
      "92/92 - 0s - loss: 0.0025\n",
      "Epoch 62/100\n",
      "92/92 - 0s - loss: 0.0022\n",
      "Epoch 63/100\n",
      "92/92 - 0s - loss: 0.0022\n",
      "Epoch 64/100\n",
      "92/92 - 0s - loss: 0.0022\n",
      "Epoch 65/100\n",
      "92/92 - 0s - loss: 0.0023\n",
      "Epoch 66/100\n",
      "92/92 - 0s - loss: 0.0022\n",
      "Epoch 67/100\n",
      "92/92 - 0s - loss: 0.0022\n",
      "Epoch 68/100\n",
      "92/92 - 0s - loss: 0.0022\n",
      "Epoch 69/100\n",
      "92/92 - 0s - loss: 0.0022\n",
      "Epoch 70/100\n",
      "92/92 - 0s - loss: 0.0021\n",
      "Epoch 71/100\n",
      "92/92 - 0s - loss: 0.0021\n",
      "Epoch 72/100\n",
      "92/92 - 0s - loss: 0.0021\n",
      "Epoch 73/100\n",
      "92/92 - 0s - loss: 0.0022\n",
      "Epoch 74/100\n",
      "92/92 - 0s - loss: 0.0021\n",
      "Epoch 75/100\n",
      "92/92 - 0s - loss: 0.0021\n",
      "Epoch 76/100\n",
      "92/92 - 0s - loss: 0.0021\n",
      "Epoch 77/100\n",
      "92/92 - 0s - loss: 0.0021\n",
      "Epoch 78/100\n",
      "92/92 - 0s - loss: 0.0020\n",
      "Epoch 79/100\n",
      "92/92 - 0s - loss: 0.0020\n",
      "Epoch 80/100\n",
      "92/92 - 0s - loss: 0.0020\n",
      "Epoch 81/100\n",
      "92/92 - 0s - loss: 0.0020\n",
      "Epoch 82/100\n",
      "92/92 - 0s - loss: 0.0021\n",
      "Epoch 83/100\n",
      "92/92 - 0s - loss: 0.0020\n",
      "Epoch 84/100\n",
      "92/92 - 0s - loss: 0.0020\n",
      "Epoch 85/100\n",
      "92/92 - 0s - loss: 0.0020\n",
      "Epoch 86/100\n",
      "92/92 - 0s - loss: 0.0020\n",
      "Epoch 87/100\n",
      "92/92 - 0s - loss: 0.0021\n",
      "Epoch 88/100\n",
      "92/92 - 0s - loss: 0.0020\n",
      "Epoch 89/100\n",
      "92/92 - 0s - loss: 0.0021\n",
      "Epoch 90/100\n",
      "92/92 - 0s - loss: 0.0020\n",
      "Epoch 91/100\n",
      "92/92 - 0s - loss: 0.0019\n",
      "Epoch 92/100\n",
      "92/92 - 0s - loss: 0.0019\n",
      "Epoch 93/100\n",
      "92/92 - 0s - loss: 0.0020\n",
      "Epoch 94/100\n",
      "92/92 - 0s - loss: 0.0020\n",
      "Epoch 95/100\n",
      "92/92 - 0s - loss: 0.0019\n",
      "Epoch 96/100\n",
      "92/92 - 0s - loss: 0.0019\n",
      "Epoch 97/100\n",
      "92/92 - 0s - loss: 0.0020\n",
      "Epoch 98/100\n",
      "92/92 - 0s - loss: 0.0019\n",
      "Epoch 99/100\n",
      "92/92 - 0s - loss: 0.0021\n",
      "Epoch 100/100\n",
      "92/92 - 0s - loss: 0.0019\n"
     ]
    },
    {
     "data": {
      "text/plain": [
       "<tensorflow.python.keras.callbacks.History at 0x22503b1b8b0>"
      ]
     },
     "execution_count": 28,
     "metadata": {},
     "output_type": "execute_result"
    }
   ],
   "source": [
    "model.fit(trainX, trainY, epochs=100, batch_size=1, verbose=2)"
   ]
  },
  {
   "cell_type": "code",
   "execution_count": 29,
   "id": "therapeutic-moisture",
   "metadata": {},
   "outputs": [],
   "source": [
    "trainPredict = model.predict(trainX)\n",
    "testPredict = model.predict(testX)"
   ]
  },
  {
   "cell_type": "code",
   "execution_count": 31,
   "id": "aware-crisis",
   "metadata": {
    "scrolled": true
   },
   "outputs": [],
   "source": [
    "# Inverse transfor the predited values to calculate the error on the same scale as the original data\n",
    "trainPredict = scaler.inverse_transform(trainPredict)\n",
    "trainY = scaler.inverse_transform([trainY])\n",
    "testPredict = scaler.inverse_transform(testPredict)\n",
    "testY = scaler.inverse_transform([testY])"
   ]
  },
  {
   "cell_type": "code",
   "execution_count": 32,
   "id": "hazardous-cedar",
   "metadata": {},
   "outputs": [
    {
     "name": "stdout",
     "output_type": "stream",
     "text": [
      "Train Score: 22.14 RMSE\n",
      "Test Score: 54.96 RMSE\n"
     ]
    }
   ],
   "source": [
    "trainScore = math.sqrt(mean_squared_error(trainY[0], trainPredict[:,0]))\n",
    "print('Train Score: %.2f RMSE' % (trainScore))\n",
    "testScore = math.sqrt(mean_squared_error(testY[0], testPredict[:,0]))\n",
    "print('Test Score: %.2f RMSE' % (testScore))"
   ]
  },
  {
   "cell_type": "code",
   "execution_count": 42,
   "id": "useful-physics",
   "metadata": {},
   "outputs": [],
   "source": [
    "# shift train and test predictions for plotting\n",
    "trainPredictPlot = np.empty_like(data)\n",
    "trainPredictPlot[:, :] = np.nan\n",
    "trainPredictPlot[look_back:len(trainPredict)+look_back, :] = trainPredict\n",
    "\n",
    "testPredictPlot = np.empty_like(data)\n",
    "testPredictPlot[:, :] = np.nan\n",
    "testPredictPlot[len(trainPredict)+(look_back*2)+1:len(data)-1, :] = testPredict"
   ]
  },
  {
   "cell_type": "code",
   "execution_count": 45,
   "id": "italic-ozone",
   "metadata": {},
   "outputs": [
    {
     "data": {
      "image/png": "[encoded data removed]",
      "text/plain": [
       "<Figure size 432x288 with 1 Axes>"
      ]
     },
     "metadata": {
      "needs_background": "light"
     },
     "output_type": "display_data"
    }
   ],
   "source": [
    "plt.plot(scaler.inverse_transform(data), label='Original data')\n",
    "plt.plot(trainPredictPlot, label='Train predicted')\n",
    "plt.plot(testPredictPlot, label='Test predicted')\n",
    "plt.legend()\n",
    "plt.show()"
   ]
  }
 ],
 "metadata": {
  "kernelspec": {
   "display_name": "Python 3",
   "language": "python",
   "name": "python3"
  },
  "language_info": {
   "codemirror_mode": {
    "name": "ipython",
    "version": 3
   },
   "file_extension": ".py",
   "mimetype": "text/x-python",
   "name": "python",
   "nbconvert_exporter": "python",
   "pygments_lexer": "ipython3",
   "version": "3.8.8"
  }
 },
 "nbformat": 4,
 "nbformat_minor": 5
}
