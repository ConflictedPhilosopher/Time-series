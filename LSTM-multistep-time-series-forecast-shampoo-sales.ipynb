{
 "cells": [
  {
   "cell_type": "code",
   "execution_count": 1,
   "id": "saving-abortion",
   "metadata": {},
   "outputs": [
    {
     "name": "stderr",
     "output_type": "stream",
     "text": [
      "<ipython-input-1-3d4f8a3edb27>:2: FutureWarning: The pandas.datetime class is deprecated and will be removed from pandas in a future version. Import from datetime module instead.\n",
      "  from pandas import datetime\n"
     ]
    }
   ],
   "source": [
    "from pandas import read_csv, DataFrame, concat, Series\n",
    "from pandas import datetime\n",
    "from matplotlib import pyplot as plt\n",
    "from sklearn.metrics import mean_squared_error\n",
    "from sklearn.preprocessing import MinMaxScaler\n",
    "from keras.models import Sequential\n",
    "from keras.layers import Dense\n",
    "from keras.layers import LSTM\n",
    "from math import sqrt\n",
    "import numpy as np"
   ]
  },
  {
   "cell_type": "code",
   "execution_count": 2,
   "id": "acceptable-niger",
   "metadata": {},
   "outputs": [
    {
     "data": {
      "text/plain": [
       "Month\n",
       "1901-01-01    266.0\n",
       "1901-02-01    145.9\n",
       "1901-03-01    183.1\n",
       "1901-04-01    119.3\n",
       "1901-05-01    180.3\n",
       "Name: Sales, dtype: float64"
      ]
     },
     "execution_count": 2,
     "metadata": {},
     "output_type": "execute_result"
    }
   ],
   "source": [
    "def parser(x):\n",
    "    return datetime.strptime('190'+x, '%Y-%m')\n",
    "\n",
    "shampoo_sales = read_csv('shampoo-sales.csv', header=0, parse_dates=[0], index_col=0, squeeze=True, date_parser=parser)\n",
    "shampoo_sales.head()"
   ]
  },
  {
   "cell_type": "code",
   "execution_count": 3,
   "id": "opening-springer",
   "metadata": {},
   "outputs": [
    {
     "data": {
      "image/png": "[encoded data removed]",
      "text/plain": [
       "<Figure size 432x288 with 1 Axes>"
      ]
     },
     "metadata": {
      "needs_background": "light"
     },
     "output_type": "display_data"
    }
   ],
   "source": [
    "shampoo_sales.plot()\n",
    "plt.title('Monthly Shampoo Sales')\n",
    "plt.show()"
   ]
  },
  {
   "cell_type": "markdown",
   "id": "bibliographic-alexandria",
   "metadata": {},
   "source": [
    "#### The time series is not stationary as there is an obvious trend in the data."
   ]
  },
  {
   "cell_type": "code",
   "execution_count": 5,
   "id": "wooden-equivalent",
   "metadata": {},
   "outputs": [],
   "source": [
    "# Prepare the time series data for use with an LSTM model\n",
    "def timeseries_to_supervised(data, n_in=1, n_out=1, dropnan=True):\n",
    "    n_vars = 1 if type(data) is list else data.shape[1]\n",
    "    df = DataFrame(data)\n",
    "    \n",
    "    cols, names = list(), list()\n",
    "    # input sequence (t-n, ... t-1)\n",
    "    for i in range(n_in, 0, -1):\n",
    "        cols.append(df.shift(i))\n",
    "        names += [('var%d(t-%d)' % (j+1, i)) for j in range(n_vars)]\n",
    "    \n",
    "    # forecast sequence (t, t+1, ... t+n)\n",
    "    for i in range(0, n_out):\n",
    "        cols.append(df.shift(-i))\n",
    "        if i == 0:\n",
    "            names += [('var%d(t)' % (j+1)) for j in range(n_vars)]\n",
    "        else:\n",
    "            names += [('var%d(t+%d)' % (j+1, i)) for j in range(n_vars)]\n",
    "    \n",
    "    agg = concat(cols, axis=1)\n",
    "    agg.columns = names\n",
    "    \n",
    "    if dropnan:\n",
    "        agg.dropna(inplace=True)\n",
    "    return agg"
   ]
  },
  {
   "cell_type": "code",
   "execution_count": 15,
   "id": "speaking-tunisia",
   "metadata": {},
   "outputs": [],
   "source": [
    "# Differencing will remove the trend in the time series\n",
    "def difference(dataset, interval=1):\n",
    "    diff = list()\n",
    "    for i in range(interval, len(dataset)):\n",
    "        diff_value = dataset[i] - dataset[i - interval]\n",
    "        diff.append(diff_value)\n",
    "    return Series(diff)"
   ]
  },
  {
   "cell_type": "code",
   "execution_count": 7,
   "id": "interested-extraction",
   "metadata": {},
   "outputs": [],
   "source": [
    "def scale(data_diff):\n",
    "    scaler = MinMaxScaler(feature_range=[-1, 1])\n",
    "    data_scaled = scaler.fit_transform(data_diff)\n",
    "    data_scaled = data_scaled.reshape(len(data_scaled), 1)\n",
    "    return scaler, data_scaled"
   ]
  },
  {
   "cell_type": "code",
   "execution_count": 8,
   "id": "accessory-whole",
   "metadata": {},
   "outputs": [],
   "source": [
    "n_lag = 1\n",
    "n_seq = 3\n",
    "n_test = 10\n",
    "n_epoch = 1500\n",
    "n_batch = 1\n",
    "n_hidden = 1"
   ]
  },
  {
   "cell_type": "code",
   "execution_count": 9,
   "id": "divided-diana",
   "metadata": {},
   "outputs": [],
   "source": [
    "data_raw = shampoo_sales.values"
   ]
  },
  {
   "cell_type": "code",
   "execution_count": 16,
   "id": "single-forty",
   "metadata": {},
   "outputs": [],
   "source": [
    "# removing the trend by differencing the data one time step\n",
    "data_diff = difference(data_raw, 1).values\n",
    "data_diff = data_diff.reshape(len(data_diff), 1)"
   ]
  },
  {
   "cell_type": "code",
   "execution_count": 17,
   "id": "central-baltimore",
   "metadata": {},
   "outputs": [],
   "source": [
    "# scaling the values between [-1, 1]\n",
    "scaler, data_scaled = scale(data_diff)"
   ]
  },
  {
   "cell_type": "code",
   "execution_count": 18,
   "id": "modular-president",
   "metadata": {},
   "outputs": [
    {
     "data": {
      "text/html": [
       "<div>\n",
       "<style scoped>\n",
       "    .dataframe tbody tr th:only-of-type {\n",
       "        vertical-align: middle;\n",
       "    }\n",
       "\n",
       "    .dataframe tbody tr th {\n",
       "        vertical-align: top;\n",
       "    }\n",
       "\n",
       "    .dataframe thead th {\n",
       "        text-align: right;\n",
       "    }\n",
       "</style>\n",
       "<table border=\"1\" class=\"dataframe\">\n",
       "  <thead>\n",
       "    <tr style=\"text-align: right;\">\n",
       "      <th></th>\n",
       "      <th>var1(t-1)</th>\n",
       "      <th>var1(t)</th>\n",
       "      <th>var1(t+1)</th>\n",
       "      <th>var1(t+2)</th>\n",
       "    </tr>\n",
       "  </thead>\n",
       "  <tbody>\n",
       "    <tr>\n",
       "      <th>1</th>\n",
       "      <td>-0.639992</td>\n",
       "      <td>0.013926</td>\n",
       "      <td>-0.405945</td>\n",
       "      <td>0.112866</td>\n",
       "    </tr>\n",
       "    <tr>\n",
       "      <th>2</th>\n",
       "      <td>0.013926</td>\n",
       "      <td>-0.405945</td>\n",
       "      <td>0.112866</td>\n",
       "      <td>-0.189773</td>\n",
       "    </tr>\n",
       "    <tr>\n",
       "      <th>3</th>\n",
       "      <td>-0.405945</td>\n",
       "      <td>0.112866</td>\n",
       "      <td>-0.189773</td>\n",
       "      <td>0.122428</td>\n",
       "    </tr>\n",
       "    <tr>\n",
       "      <th>4</th>\n",
       "      <td>0.112866</td>\n",
       "      <td>-0.189773</td>\n",
       "      <td>0.122428</td>\n",
       "      <td>-0.171066</td>\n",
       "    </tr>\n",
       "    <tr>\n",
       "      <th>5</th>\n",
       "      <td>-0.189773</td>\n",
       "      <td>0.122428</td>\n",
       "      <td>-0.171066</td>\n",
       "      <td>-0.272501</td>\n",
       "    </tr>\n",
       "  </tbody>\n",
       "</table>\n",
       "</div>"
      ],
      "text/plain": [
       "   var1(t-1)   var1(t)  var1(t+1)  var1(t+2)\n",
       "1  -0.639992  0.013926  -0.405945   0.112866\n",
       "2   0.013926 -0.405945   0.112866  -0.189773\n",
       "3  -0.405945  0.112866  -0.189773   0.122428\n",
       "4   0.112866 -0.189773   0.122428  -0.171066\n",
       "5  -0.189773  0.122428  -0.171066  -0.272501"
      ]
     },
     "execution_count": 18,
     "metadata": {},
     "output_type": "execute_result"
    }
   ],
   "source": [
    "# Transforing time series to a supervised classification format\n",
    "data = timeseries_to_supervised(data_scaled, n_lag, n_seq)\n",
    "data.head()"
   ]
  },
  {
   "cell_type": "code",
   "execution_count": 19,
   "id": "hidden-bunch",
   "metadata": {},
   "outputs": [
    {
     "data": {
      "text/html": [
       "<div>\n",
       "<style scoped>\n",
       "    .dataframe tbody tr th:only-of-type {\n",
       "        vertical-align: middle;\n",
       "    }\n",
       "\n",
       "    .dataframe tbody tr th {\n",
       "        vertical-align: top;\n",
       "    }\n",
       "\n",
       "    .dataframe thead th {\n",
       "        text-align: right;\n",
       "    }\n",
       "</style>\n",
       "<table border=\"1\" class=\"dataframe\">\n",
       "  <thead>\n",
       "    <tr style=\"text-align: right;\">\n",
       "      <th></th>\n",
       "      <th>var1(t-1)</th>\n",
       "      <th>var1(t)</th>\n",
       "      <th>var1(t+1)</th>\n",
       "      <th>var1(t+2)</th>\n",
       "    </tr>\n",
       "  </thead>\n",
       "  <tbody>\n",
       "    <tr>\n",
       "      <th>23</th>\n",
       "      <td>0.182706</td>\n",
       "      <td>-0.151528</td>\n",
       "      <td>0.277905</td>\n",
       "      <td>-0.658283</td>\n",
       "    </tr>\n",
       "    <tr>\n",
       "      <th>24</th>\n",
       "      <td>-0.151528</td>\n",
       "      <td>0.277905</td>\n",
       "      <td>-0.658283</td>\n",
       "      <td>0.372272</td>\n",
       "    </tr>\n",
       "    <tr>\n",
       "      <th>25</th>\n",
       "      <td>0.277905</td>\n",
       "      <td>-0.658283</td>\n",
       "      <td>0.372272</td>\n",
       "      <td>-0.298691</td>\n",
       "    </tr>\n",
       "    <tr>\n",
       "      <th>26</th>\n",
       "      <td>-0.658283</td>\n",
       "      <td>0.372272</td>\n",
       "      <td>-0.298691</td>\n",
       "      <td>0.009354</td>\n",
       "    </tr>\n",
       "    <tr>\n",
       "      <th>27</th>\n",
       "      <td>0.372272</td>\n",
       "      <td>-0.298691</td>\n",
       "      <td>0.009354</td>\n",
       "      <td>0.433382</td>\n",
       "    </tr>\n",
       "    <tr>\n",
       "      <th>28</th>\n",
       "      <td>-0.298691</td>\n",
       "      <td>0.009354</td>\n",
       "      <td>0.433382</td>\n",
       "      <td>-0.838703</td>\n",
       "    </tr>\n",
       "    <tr>\n",
       "      <th>29</th>\n",
       "      <td>0.009354</td>\n",
       "      <td>0.433382</td>\n",
       "      <td>-0.838703</td>\n",
       "      <td>1.000000</td>\n",
       "    </tr>\n",
       "    <tr>\n",
       "      <th>30</th>\n",
       "      <td>0.433382</td>\n",
       "      <td>-0.838703</td>\n",
       "      <td>1.000000</td>\n",
       "      <td>-1.000000</td>\n",
       "    </tr>\n",
       "    <tr>\n",
       "      <th>31</th>\n",
       "      <td>-0.838703</td>\n",
       "      <td>1.000000</td>\n",
       "      <td>-1.000000</td>\n",
       "      <td>0.299938</td>\n",
       "    </tr>\n",
       "    <tr>\n",
       "      <th>32</th>\n",
       "      <td>1.000000</td>\n",
       "      <td>-1.000000</td>\n",
       "      <td>0.299938</td>\n",
       "      <td>0.131989</td>\n",
       "    </tr>\n",
       "  </tbody>\n",
       "</table>\n",
       "</div>"
      ],
      "text/plain": [
       "    var1(t-1)   var1(t)  var1(t+1)  var1(t+2)\n",
       "23   0.182706 -0.151528   0.277905  -0.658283\n",
       "24  -0.151528  0.277905  -0.658283   0.372272\n",
       "25   0.277905 -0.658283   0.372272  -0.298691\n",
       "26  -0.658283  0.372272  -0.298691   0.009354\n",
       "27   0.372272 -0.298691   0.009354   0.433382\n",
       "28  -0.298691  0.009354   0.433382  -0.838703\n",
       "29   0.009354  0.433382  -0.838703   1.000000\n",
       "30   0.433382 -0.838703   1.000000  -1.000000\n",
       "31  -0.838703  1.000000  -1.000000   0.299938\n",
       "32   1.000000 -1.000000   0.299938   0.131989"
      ]
     },
     "execution_count": 19,
     "metadata": {},
     "output_type": "execute_result"
    }
   ],
   "source": [
    "# I'll use the last n_test samples for testing the model and \n",
    "# the rest for training the model\n",
    "train, test = data[0:-n_test], data[-n_test:]\n",
    "test"
   ]
  },
  {
   "cell_type": "code",
   "execution_count": 20,
   "id": "iraqi-universe",
   "metadata": {},
   "outputs": [],
   "source": [
    "def fit_lstm(train, n_lag, n_seq, n_batch, n_epoch, n_hidden):\n",
    "    X, y = train[:, 0:n_lag], train[:, n_lag:]\n",
    "    X = X.reshape(X.shape[0], 1, X.shape[1])\n",
    "    \n",
    "    model = Sequential()\n",
    "    model.add(LSTM(n_hidden, batch_input_shape=(n_batch, X.shape[1], X.shape[2]), stateful=True))\n",
    "    model.add(Dense(y.shape[1]))\n",
    "    model.compile(loss='mean_squared_error', optimizer='adam')\n",
    "    \n",
    "    for i in range(n_epoch):\n",
    "        model.fit(X, y, epochs=1, batch_size=n_batch, verbose=0, shuffle=False)\n",
    "        model.reset_states()\n",
    "    return model"
   ]
  },
  {
   "cell_type": "code",
   "execution_count": 44,
   "id": "concerned-assembly",
   "metadata": {},
   "outputs": [],
   "source": [
    "# one-step forecast function\n",
    "def forecast_lstm(model, X, n_batch):\n",
    "    print(X)\n",
    "    X = X.reshape(1, 1, len(X))\n",
    "    forecast = model.predict(X, batch_size=n_batch)\n",
    "    return [x for x in forecast[0, :]]"
   ]
  },
  {
   "cell_type": "code",
   "execution_count": 22,
   "id": "scenic-carolina",
   "metadata": {},
   "outputs": [],
   "source": [
    "# Invert differenced forecast\n",
    "def inverse_difference(last_ob, forecast):\n",
    "    inverted = list()\n",
    "    inverted.append(forecast[0] + last_ob)\n",
    "    for i in range(1, len(forecast)):\n",
    "        inverted.append(forecast[i] + inverted[i-1])\n",
    "    return inverted"
   ]
  },
  {
   "cell_type": "code",
   "execution_count": 49,
   "id": "olympic-department",
   "metadata": {},
   "outputs": [],
   "source": [
    "# Inverting data transform on forecasts\n",
    "def inverse_transform(series, forecasts, scaler, n_test):\n",
    "    inverted = list()\n",
    "    for i in range(len(forecasts)):\n",
    "        forecast = np.array(forecasts[i])\n",
    "        forecast = forecast.reshape(1, len(forecast))\n",
    "        \n",
    "        inv_scale = scaler.inverse_transform(forecast)\n",
    "        inv_scale = inv_scale[0, :]\n",
    "        \n",
    "        index = len(series) - n_test + i - 1\n",
    "        last_ob = series.values[index]\n",
    "        inv_diff = inverse_difference(last_ob, inv_scale)\n",
    "        \n",
    "        inverted.append(inv_diff)\n",
    "    return inverted"
   ]
  },
  {
   "cell_type": "code",
   "execution_count": 24,
   "id": "configured-advice",
   "metadata": {},
   "outputs": [],
   "source": [
    "# Evaluating the forecasted values\n",
    "def evaluate_forecasts(test, forecasts, n_lag, n_seq):\n",
    "    for i in range(n_seq):\n",
    "        actual = [row[i] for row in test]\n",
    "        predicted = [forecast[i] for forecast in forecasts]\n",
    "        rmse = sqrt(mean_squared_error(actual, predicted))\n",
    "        print('t+%d RMSE: %f' % ((i+1), rmse))"
   ]
  },
  {
   "cell_type": "code",
   "execution_count": 54,
   "id": "simplified-phoenix",
   "metadata": {},
   "outputs": [],
   "source": [
    "def plot_forecasts(series, forecasts, n_test):\n",
    "    plt.plot(series.values)\n",
    "    \n",
    "    for i in range(len(forecasts)):\n",
    "        off_s = len(series) - n_test + i - 1\n",
    "        off_e = off_s + len(forecasts[i]) + 1\n",
    "        xaxis = [x for x in range(off_s, off_e)]\n",
    "        yaxis = [series.values[off_s]] + forecasts[i]\n",
    "        plt.plot(xaxis, yaxis, color='red')\n",
    "    \n",
    "    plt.show()"
   ]
  },
  {
   "cell_type": "code",
   "execution_count": 57,
   "id": "spoken-division",
   "metadata": {},
   "outputs": [],
   "source": [
    "lstm_model = fit_lstm(train.values, n_lag, n_seq, n_batch, n_epoch, n_hidden)"
   ]
  },
  {
   "cell_type": "code",
   "execution_count": 26,
   "id": "oriental-teach",
   "metadata": {},
   "outputs": [],
   "source": [
    "forecasts = []\n",
    "for i in range(len(test)):\n",
    "    X, y = test.values[i, 0:n_lag], test.values[i, n_lag:]\n",
    "    forecast = forecast_lstm(lstm_model, X, n_batch)\n",
    "    forecasts.append(forecast)"
   ]
  },
  {
   "cell_type": "code",
   "execution_count": 27,
   "id": "great-frequency",
   "metadata": {},
   "outputs": [],
   "source": [
    "# Inverse transforming forecasts and test\n",
    "forecasts = inverse_transform(shampoo_sales, forecasts, scaler, n_test+2)"
   ]
  },
  {
   "cell_type": "code",
   "execution_count": 28,
   "id": "fantastic-duncan",
   "metadata": {},
   "outputs": [],
   "source": [
    "actual = [row[n_lag:] for row in test.values]\n",
    "actual = inverse_transform(shampoo_sales, actual, scaler, n_test+2)"
   ]
  },
  {
   "cell_type": "code",
   "execution_count": 29,
   "id": "thermal-budget",
   "metadata": {},
   "outputs": [
    {
     "name": "stdout",
     "output_type": "stream",
     "text": [
      "t+1 RMSE: 120.549903\n",
      "t+2 RMSE: 84.719123\n",
      "t+3 RMSE: 105.343042\n"
     ]
    }
   ],
   "source": [
    "evaluate_forecasts(actual, forecasts, n_lag, n_seq)"
   ]
  },
  {
   "cell_type": "code",
   "execution_count": 55,
   "id": "unknown-latino",
   "metadata": {},
   "outputs": [
    {
     "data": {
      "image/png": "[encoded data removed]",
      "text/plain": [
       "<Figure size 432x288 with 1 Axes>"
      ]
     },
     "metadata": {
      "needs_background": "light"
     },
     "output_type": "display_data"
    }
   ],
   "source": [
    "plot_forecasts(shampoo_sales, forecasts, n_test+2)"
   ]
  },
  {
   "cell_type": "code",
   "execution_count": null,
   "id": "addressed-shadow",
   "metadata": {},
   "outputs": [],
   "source": []
  }
 ],
 "metadata": {
  "kernelspec": {
   "display_name": "Python 3",
   "language": "python",
   "name": "python3"
  },
  "language_info": {
   "codemirror_mode": {
    "name": "ipython",
    "version": 3
   },
   "file_extension": ".py",
   "mimetype": "text/x-python",
   "name": "python",
   "nbconvert_exporter": "python",
   "pygments_lexer": "ipython3",
   "version": "3.8.8"
  }
 },
 "nbformat": 4,
 "nbformat_minor": 5
}
